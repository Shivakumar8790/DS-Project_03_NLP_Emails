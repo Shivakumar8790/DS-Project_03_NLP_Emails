{
 "cells": [
  {
   "cell_type": "code",
   "execution_count": 1,
   "id": "105731d1",
   "metadata": {},
   "outputs": [
    {
     "name": "stderr",
     "output_type": "stream",
     "text": [
      "[nltk_data] Downloading package stopwords to\n",
      "[nltk_data]     C:\\Users\\91879\\AppData\\Roaming\\nltk_data...\n",
      "[nltk_data]   Package stopwords is already up-to-date!\n",
      "2023-11-09 04:38:44.503 \n",
      "  \u001b[33m\u001b[1mWarning:\u001b[0m to view this Streamlit app on a browser, run it with the following\n",
      "  command:\n",
      "\n",
      "    streamlit run C:\\ProgramData\\anaconda3\\lib\\site-packages\\ipykernel_launcher.py [ARGUMENTS]\n"
     ]
    }
   ],
   "source": [
    "import streamlit as st\n",
    "import joblib\n",
    "import re\n",
    "import string\n",
    "import nltk\n",
    "from nltk.corpus import stopwords\n",
    "from nltk.stem import WordNetLemmatizer\n",
    "\n",
    "# Download the 'stopwords' dataset if not already downloaded\n",
    "nltk.download('stopwords')\n",
    "\n",
    "# Load the pre-trained TF-IDF vectorizer\n",
    "vectorizer = joblib.load(\"TfidfVectorizer.pkl\")\n",
    "\n",
    "# Load the trained SVC model\n",
    "model = joblib.load(\"XGBoost_Model.pkl\")\n",
    "\n",
    "# Initialize the lemmatizer and stop words\n",
    "lemmatizer = WordNetLemmatizer()\n",
    "stop_words = set(stopwords.words('english'))\n",
    "\n",
    "# Function to preprocess and predict the class of an email\n",
    "def predict_email_class(email_content):\n",
    "    # Preprocess the email content\n",
    "    cleaned_email = email_content.lower()\n",
    "    cleaned_email = re.sub(r'<.*?>!@#$%^&*()', '', cleaned_email)\n",
    "    cleaned_email = re.sub(r'\\d+', '', cleaned_email)\n",
    "    cleaned_email = cleaned_email.translate(str.maketrans('', '', string.punctuation))\n",
    "    cleaned_email = cleaned_email.strip()\n",
    "    pattern = re.compile(r'\\s+')\n",
    "    cleaned_email = pattern.sub(' ', cleaned_email)\n",
    "\n",
    "    # Tokenize the text and remove stop words\n",
    "    words = nltk.word_tokenize(cleaned_email)\n",
    "    cleaned_tokens = [lemmatizer.lemmatize(word) for word in words if word.lower() not in stop_words]\n",
    "\n",
    "    # Vectorize the cleaned email\n",
    "    email_vector = vectorizer.transform([' '.join(cleaned_tokens)])\n",
    "\n",
    "    # Make the prediction\n",
    "    predicted_class = model.predict(email_vector)\n",
    "\n",
    "    return predicted_class[0]\n",
    "\n",
    "# Streamlit app UI\n",
    "st.title(\"Email Classification\")\n",
    "st.write(\"Enter an email to check if it's appropriate or not.\")\n",
    "\n",
    "# Text input for user to enter email content\n",
    "email_content = st.text_area(\"Email Content:\")\n",
    "\n",
    "if st.button(\"Check Email\"):\n",
    "    if email_content:\n",
    "        predicted_class = predict_email_class(email_content)\n",
    "        if predicted_class == 1:\n",
    "            st.write(\"This email is appropriate or Non-Abusive.\")\n",
    "        else:\n",
    "            st.write(\"This email is app inappropriate or Abusive.\")\n",
    "    else:\n",
    "        st.write(\"Please enter some email content for classification.\")\n"
   ]
  },
  {
   "cell_type": "code",
   "execution_count": null,
   "id": "236a0439",
   "metadata": {},
   "outputs": [],
   "source": []
  }
 ],
 "metadata": {
  "kernelspec": {
   "display_name": "Python 3 (ipykernel)",
   "language": "python",
   "name": "python3"
  },
  "language_info": {
   "codemirror_mode": {
    "name": "ipython",
    "version": 3
   },
   "file_extension": ".py",
   "mimetype": "text/x-python",
   "name": "python",
   "nbconvert_exporter": "python",
   "pygments_lexer": "ipython3",
   "version": "3.10.9"
  }
 },
 "nbformat": 4,
 "nbformat_minor": 5
}
